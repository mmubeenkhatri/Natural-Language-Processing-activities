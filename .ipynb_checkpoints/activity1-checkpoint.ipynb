{
 "cells": [
  {
   "cell_type": "code",
   "execution_count": 9,
   "id": "69a5ea3b",
   "metadata": {},
   "outputs": [],
   "source": [
    "# part 1"
   ]
  },
  {
   "cell_type": "code",
   "execution_count": 7,
   "id": "9c271fbe",
   "metadata": {},
   "outputs": [
    {
     "name": "stdout",
     "output_type": "stream",
     "text": [
      "Valid email ID\n",
      "Valid cellphone number\n",
      "Valid CNIC\n",
      "Valid NED Roll Number\n",
      "Valid password\n"
     ]
    }
   ],
   "source": [
    "import re\n",
    "\n",
    "email_id = \"mubeen@gmail.com\"\n",
    "pattern = r'^[a-zA-Z0-9._%+-]+@[a-zA-Z0-9.-]+\\.[a-zA-Z]{2,}$'\n",
    "\n",
    "if re.match(pattern, email_id):\n",
    "    print(\"Valid email ID\")\n",
    "else:\n",
    "    print(\"Invalid email ID\")\n",
    "    \n",
    "cellphone_number = \"0323-2323234\"\n",
    "pattern = r'^\\d{4}-\\d{7}$'\n",
    "\n",
    "if re.match(pattern, cellphone_number):\n",
    "    print(\"Valid cellphone number\")\n",
    "else:\n",
    "    print(\"Invalid cellphone number\")\n",
    "    \n",
    "cnic = \"43434-2345678-7\"\n",
    "pattern = r'^\\d{5}-\\d{7}-\\d{1}$'\n",
    "\n",
    "if re.match(pattern, cnic):\n",
    "    print(\"Valid CNIC\")\n",
    "else:\n",
    "    print(\"Invalid CNIC\")\n",
    "\n",
    "ned_roll_number = \"CT-022/2022\"\n",
    "pattern = r'^[A-Z]{2}-\\d{3}/\\d{4}$'\n",
    "\n",
    "if re.match(pattern, ned_roll_number):\n",
    "    print(\"Valid NED Roll Number\")\n",
    "else:\n",
    "    print(\"Invalid NED Roll Number\")\n",
    "\n",
    "\n",
    "password = \"Adobe110#\"\n",
    "pattern = r'^(?=.*[A-Za-z])(?=.*\\d)(?=.*[@$!%*#?&])[A-Za-z\\d@$!%*#?&]{8,}$'\n",
    "\n",
    "if re.match(pattern, password):\n",
    "    print(\"Valid password\")\n",
    "else:\n",
    "    print(\"Invalid password\")\n"
   ]
  },
  {
   "cell_type": "code",
   "execution_count": null,
   "id": "b4aa3438",
   "metadata": {},
   "outputs": [],
   "source": [
    "# part 2\n",
    "#  ([^aeiou][aeiou])\\1\n",
    "# Matches a consonant followed by a vowel and captures it as a group"
   ]
  },
  {
   "cell_type": "code",
   "execution_count": null,
   "id": "7e5b7c86",
   "metadata": {},
   "outputs": [],
   "source": [
    "text = \"hello world how are you today?\"\n",
    "\n",
    "pattern = r'([^aeiou][aeiou])\\1'\n",
    "\n",
    "matches = re.findall(pattern, text)\n",
    "\n",
    "if matches:\n",
    "    print(\"Matches found:\")\n",
    "    for match in matches:\n",
    "        print(match)\n",
    "else:\n",
    "    print(\"No matches found.\")"
   ]
  }
 ],
 "metadata": {
  "kernelspec": {
   "display_name": "Python 3 (ipykernel)",
   "language": "python",
   "name": "python3"
  },
  "language_info": {
   "codemirror_mode": {
    "name": "ipython",
    "version": 3
   },
   "file_extension": ".py",
   "mimetype": "text/x-python",
   "name": "python",
   "nbconvert_exporter": "python",
   "pygments_lexer": "ipython3",
   "version": "3.10.0"
  }
 },
 "nbformat": 4,
 "nbformat_minor": 5
}
